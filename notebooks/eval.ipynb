{
 "cells": [
  {
   "cell_type": "code",
   "execution_count": 37,
   "metadata": {},
   "outputs": [],
   "source": [
    "import pandas as pd\n",
    "import pickle\n",
    "from tabulate import tabulate"
   ]
  },
  {
   "cell_type": "code",
   "execution_count": 34,
   "metadata": {},
   "outputs": [],
   "source": [
    "with open(\"../data/all_scores.pickle\", \"rb\") as file:\n",
    "    scores = pickle.load(file)\n",
    "scores\n",
    "\n",
    "data = []\n",
    "\n",
    "# Iterate through each model's results and flatten the data\n",
    "for model, metrics in scores.items():\n",
    "    for metric_type, values in metrics.items():\n",
    "        if metric_type == 'rouge':\n",
    "            # Flatten ROUGE metrics\n",
    "            data.append((model, metric_type, 'rouge1', values['rouge1']))\n",
    "            data.append((model, metric_type, 'rouge2', values['rouge2']))\n",
    "            data.append((model, metric_type, 'rougeL', values['rougeL']))\n",
    "            data.append((model, metric_type, 'rougeLsum', values['rougeLsum']))\n",
    "        elif metric_type == 'bleu':\n",
    "            # Flatten BLEU metrics and details\n",
    "            data.append((model, metric_type, 'bleu', values['bleu']))\n",
    "            data.append((model, metric_type, 'brevity_penalty', values['brevity_penalty']))\n",
    "            data.append((model, metric_type, 'length_ratio', values['length_ratio']))\n",
    "            data.append((model, metric_type, 'translation_length', values['translation_length']))\n",
    "            data.append((model, metric_type, 'reference_length', values['reference_length']))\n",
    "            \n",
    "df = pd.DataFrame(data, columns=['Model', 'Metric Type', 'Metric', 'Value'])\n",
    "df['Value'] = df['Value'].round(3)\n",
    "df_pivot = df.pivot_table(index=['Model', 'Metric'], columns='Metric Type', values='Value', aggfunc='first')"
   ]
  },
  {
   "cell_type": "code",
   "execution_count": 36,
   "metadata": {},
   "outputs": [
    {
     "name": "stdout",
     "output_type": "stream",
     "text": [
      "|                                              | bleu   | rouge   |\n",
      "|:---------------------------------------------|:-------|:--------|\n",
      "| ('t5-base', 'bleu')                          | 0.02   | -       |\n",
      "| ('t5-base', 'brevity_penalty')               | 1.0    | -       |\n",
      "| ('t5-base', 'length_ratio')                  | 3.721  | -       |\n",
      "| ('t5-base', 'reference_length')              | 985.0  | -       |\n",
      "| ('t5-base', 'rouge1')                        | -      | 0.177   |\n",
      "| ('t5-base', 'rouge2')                        | -      | 0.058   |\n",
      "| ('t5-base', 'rougeL')                        | -      | 0.144   |\n",
      "| ('t5-base', 'rougeLsum')                     | -      | 0.144   |\n",
      "| ('t5-base', 'translation_length')            | 3665.0 | -       |\n",
      "| ('t5-small', 'bleu')                         | 0.024  | -       |\n",
      "| ('t5-small', 'brevity_penalty')              | 1.0    | -       |\n",
      "| ('t5-small', 'length_ratio')                 | 2.97   | -       |\n",
      "| ('t5-small', 'reference_length')             | 985.0  | -       |\n",
      "| ('t5-small', 'rouge1')                       | -      | 0.174   |\n",
      "| ('t5-small', 'rouge2')                       | -      | 0.061   |\n",
      "| ('t5-small', 'rougeL')                       | -      | 0.146   |\n",
      "| ('t5-small', 'rougeLsum')                    | -      | 0.146   |\n",
      "| ('t5-small', 'translation_length')           | 2925.0 | -       |\n",
      "| ('t5-small-finetuned', 'bleu')               | 0.022  | -       |\n",
      "| ('t5-small-finetuned', 'brevity_penalty')    | 1.0    | -       |\n",
      "| ('t5-small-finetuned', 'length_ratio')       | 4.059  | -       |\n",
      "| ('t5-small-finetuned', 'reference_length')   | 985.0  | -       |\n",
      "| ('t5-small-finetuned', 'rouge1')             | -      | 0.149   |\n",
      "| ('t5-small-finetuned', 'rouge2')             | -      | 0.049   |\n",
      "| ('t5-small-finetuned', 'rougeL')             | -      | 0.128   |\n",
      "| ('t5-small-finetuned', 'rougeLsum')          | -      | 0.127   |\n",
      "| ('t5-small-finetuned', 'translation_length') | 3998.0 | -       |\n"
     ]
    }
   ],
   "source": [
    "df_pivot.fillna(\"-\", inplace=True)\n",
    "print(df_pivot.to_markdown())"
   ]
  },
  {
   "cell_type": "code",
   "execution_count": 39,
   "metadata": {},
   "outputs": [
    {
     "name": "stdout",
     "output_type": "stream",
     "text": [
      "| Model              |   rouge |\n",
      "|:-------------------|--------:|\n",
      "| t5-base            |   0.177 |\n",
      "| t5-small           |   0.174 |\n",
      "| t5-small-finetuned |   0.149 |\n"
     ]
    }
   ],
   "source": [
    "rouge_table = tabulate(\n",
    "    df[df['Metric Type'] == 'rouge'].pivot_table(index=['Model'], columns='Metric Type', values='Value', aggfunc='first'),\n",
    "    headers='keys',\n",
    "    tablefmt='pipe',\n",
    "    showindex=True\n",
    ")\n",
    "print(rouge_table)"
   ]
  },
  {
   "cell_type": "code",
   "execution_count": 40,
   "metadata": {},
   "outputs": [
    {
     "name": "stdout",
     "output_type": "stream",
     "text": [
      "| Model              |   bleu |\n",
      "|:-------------------|-------:|\n",
      "| t5-base            |  0.02  |\n",
      "| t5-small           |  0.024 |\n",
      "| t5-small-finetuned |  0.022 |\n"
     ]
    }
   ],
   "source": [
    "bleu_table = tabulate(\n",
    "    df[df['Metric Type'] == 'bleu'].pivot_table(index=['Model'], columns='Metric Type', values='Value', aggfunc='first'), \n",
    "    headers='keys', \n",
    "    tablefmt='pipe', \n",
    "    showindex=True\n",
    ")\n",
    "print(bleu_table)"
   ]
  },
  {
   "cell_type": "code",
   "execution_count": null,
   "metadata": {},
   "outputs": [],
   "source": []
  }
 ],
 "metadata": {
  "kernelspec": {
   "display_name": "llama2_peft_env",
   "language": "python",
   "name": "python3"
  },
  "language_info": {
   "codemirror_mode": {
    "name": "ipython",
    "version": 3
   },
   "file_extension": ".py",
   "mimetype": "text/x-python",
   "name": "python",
   "nbconvert_exporter": "python",
   "pygments_lexer": "ipython3",
   "version": "3.11.9"
  }
 },
 "nbformat": 4,
 "nbformat_minor": 2
}
